{
 "cells": [
  {
   "cell_type": "markdown",
   "metadata": {},
   "source": [
    "Load data"
   ]
  },
  {
   "cell_type": "code",
   "execution_count": 1,
   "metadata": {},
   "outputs": [],
   "source": [
    "import pandas as pd\n",
    "import numpy as np\n",
    "\n",
    "import os\n",
    "from pathlib import Path\n",
    "dir = Path(os.path.abspath('../workflow')) # sets dir variable\n",
    "\n",
    "df = pd.read_csv(dir / \"data/expression.txt\", sep='\\t' )\n",
    "df.columns = df.columns.str.strip()\n",
    "\n",
    "labels = pd.read_csv(dir / \"data/sample info.txt\", sep='\\t')\n",
    "labels.set_index(labels.columns[0], inplace=True)\n",
    "labels = labels.transpose()"
   ]
  },
  {
   "cell_type": "markdown",
   "metadata": {},
   "source": [
    "Filter by bird type"
   ]
  },
  {
   "cell_type": "code",
   "execution_count": 2,
   "metadata": {},
   "outputs": [
    {
     "name": "stdout",
     "output_type": "stream",
     "text": [
      "54 20104\n",
      "27 20104\n"
     ]
    }
   ],
   "source": [
    "target = \"areaX\"\n",
    "\n",
    "print(len(df.columns), len(df))\n",
    "\n",
    "for col_name in df:\n",
    "    bird_type = labels.loc[labels['Sample_number'] == col_name].index[0]\n",
    "    \n",
    "    if (target not in bird_type):\n",
    "        df = df.drop(col_name, axis=1)\n",
    "        \n",
    "print(len(df.columns), len(df))"
   ]
  },
  {
   "cell_type": "markdown",
   "metadata": {},
   "source": [
    "Replaces na values with 0, and removes columns with low sums"
   ]
  },
  {
   "cell_type": "code",
   "execution_count": 3,
   "metadata": {},
   "outputs": [
    {
     "name": "stdout",
     "output_type": "stream",
     "text": [
      "27 20104\n",
      "26 20104\n"
     ]
    }
   ],
   "source": [
    "order_of_magnitude = 2\n",
    "\n",
    "print(len(df.columns), len(df))\n",
    "\n",
    "df.fillna(0)\n",
    "\n",
    "sums = {col_name : np.sum(col_data) for col_name, col_data in df.items()}\n",
    "median = np.median(list(sums.values()))\n",
    "\n",
    "for col_name, col_data in df.items():\n",
    "    sum = sums[col_name]\n",
    "    ratio = sum/median\n",
    "    \n",
    "    if (ratio > (10 ** order_of_magnitude) or ratio < (10 ** -order_of_magnitude)):\n",
    "        df = df.drop(col_name, axis=1)\n",
    "        \n",
    "print(len(df.columns), len(df))"
   ]
  },
  {
   "cell_type": "markdown",
   "metadata": {},
   "source": [
    "Filter by standard deviation"
   ]
  },
  {
   "cell_type": "code",
   "execution_count": 4,
   "metadata": {},
   "outputs": [
    {
     "name": "stdout",
     "output_type": "stream",
     "text": [
      "26 20104\n",
      "26 16748\n"
     ]
    }
   ],
   "source": [
    "num_deviations = 2\n",
    "\n",
    "print(len(df.columns), len(df))\n",
    "\n",
    "means_and_devs = {col_name : (np.mean(col_data), np.std(col_data)) for col_name, col_data in df.items()}\n",
    "\n",
    "for col_name, col_data in df.items():\n",
    "    mean, dev = means_and_devs[col_name]\n",
    "\n",
    "    upper_bound = mean + (dev * num_deviations)\n",
    "    lower_bound = mean - (dev * num_deviations)\n",
    "    \n",
    "    for idx, item in col_data.items():\n",
    "        if (item < lower_bound or item > upper_bound):\n",
    "            df.at[idx, col_name] = np.nan\n",
    "            \n",
    "df = df.dropna()\n",
    "\n",
    "print(len(df.columns), len(df))"
   ]
  },
  {
   "cell_type": "markdown",
   "metadata": {},
   "source": [
    "Import the dataframe into R"
   ]
  },
  {
   "cell_type": "code",
   "execution_count": 5,
   "metadata": {},
   "outputs": [],
   "source": [
    "import rpy2.robjects as robjects\n",
    "from rpy2.robjects import pandas2ri\n",
    "\n",
    "# Initialize R\n",
    "r = robjects.r\n",
    "pandas2ri.activate()\n",
    "\n",
    "# Convert df dataframe to an r dataframe\n",
    "r_df = pandas2ri.py2rpy(df)"
   ]
  },
  {
   "cell_type": "markdown",
   "metadata": {},
   "source": [
    "Normalize with limma (EXCLUSIVE TO MICROARRAYS)"
   ]
  },
  {
   "cell_type": "code",
   "execution_count": 6,
   "metadata": {},
   "outputs": [],
   "source": [
    "from rpy2.robjects.packages import importr\n",
    "\n",
    "df_old = df.copy()\n",
    "\n",
    "limma = importr('limma')\n",
    "df_norm = limma.normalizeBetweenArrays(df, method=\"quantile\")\n",
    "df[:] = df_norm"
   ]
  },
  {
   "cell_type": "markdown",
   "metadata": {},
   "source": [
    "Filter with GWENA"
   ]
  },
  {
   "cell_type": "code",
   "execution_count": 7,
   "metadata": {},
   "outputs": [
    {
     "name": "stdout",
     "output_type": "stream",
     "text": [
      "           GSM855822    GSM855824    GSM855826     GSM855828     GSM855830  \\\n",
      "2757075  1492.646128  1373.826792  1318.428950   1390.424368   1567.209797   \n",
      "2757076  6004.072706  6666.570034  5521.642614  11294.565344   4934.175911   \n",
      "2757077  7798.522702  6539.634600  6231.197113   5693.742649   5876.085149   \n",
      "2757078  8602.605748  6356.183040  9341.059279  12017.693408  10025.840310   \n",
      "2757080  1723.583764  1733.556777  1259.760183   1349.092126   1227.831579   \n",
      "...              ...          ...          ...           ...           ...   \n",
      "2800048   828.091994   546.009806   731.110895    741.928493    932.479316   \n",
      "2800049   579.867897   446.343066   378.190188    845.426071    490.130288   \n",
      "2800050    29.538775    44.509152    53.744304     75.554648     49.442003   \n",
      "2800051  4783.258225  4734.291433  2327.910475   2577.452494   2954.258458   \n",
      "2800052  1323.192064   944.589262   620.722965    489.308367   1862.957775   \n",
      "\n",
      "            GSM855832     GSM855836    GSM855838     GSM855840    GSM855842  \\\n",
      "2757075   1316.285412   1391.556251  1150.096179   1461.074801  1352.935980   \n",
      "2757076   9350.283107   9529.639635  4223.571571  10813.795277  4484.358443   \n",
      "2757077   5643.365634   5678.694799  5177.060907   5555.642202  7341.103620   \n",
      "2757078  12465.443466  13285.486480  9981.242568  18707.511780  8928.489888   \n",
      "2757080   1793.729180   1563.871227  1224.105708   1757.710720  1065.281871   \n",
      "...               ...           ...          ...           ...          ...   \n",
      "2800048    504.869828    512.198935   712.381331    364.488055   692.576821   \n",
      "2800049    692.881937   1118.541354   367.249727   1517.916561   490.352492   \n",
      "2800050     41.431054     63.664666    67.602485     59.736799    32.260220   \n",
      "2800051   3187.849032   2504.521556  3981.724085   2335.439347  4327.101614   \n",
      "2800052    604.839137    946.981704   749.160029    657.679384   608.862278   \n",
      "\n",
      "         ...     GSM855856     GSM855858     GSM855860    GSM855862  \\\n",
      "2757075  ...   1428.102079   1382.318724   1642.702120  1894.887567   \n",
      "2757076  ...  10316.741037   4419.619034  11736.282664  6779.778577   \n",
      "2757077  ...   6081.811127   6097.930162   5774.505930  7703.069580   \n",
      "2757078  ...   6319.149855  10169.296895  17243.503677  8938.515682   \n",
      "2757080  ...   1522.212985   1265.579796   1456.439576  1135.508512   \n",
      "...      ...           ...           ...           ...          ...   \n",
      "2800048  ...    543.572383    778.869749    492.695780   531.000204   \n",
      "2800049  ...    513.364042    453.621372    970.305150   595.976591   \n",
      "2800050  ...     47.775815     59.584905     54.705529    36.655180   \n",
      "2800051  ...   3106.549568   2639.878466   2475.461334  6365.090267   \n",
      "2800052  ...    399.436422   1156.183365   1190.756222   600.577465   \n",
      "\n",
      "            GSM855864     GSM855866     GSM855868    GSM855870     GSM855872  \\\n",
      "2757075   1956.185317   1671.631970   1453.255489  1886.281352   1360.617211   \n",
      "2757076  11380.808789   6932.966620  10414.280906  6593.820271  10450.293982   \n",
      "2757077   6149.104592   5864.499077   4957.502129  6905.600957   4783.258225   \n",
      "2757078  10799.674748  12156.632829  12229.091876  4131.855296   9891.438725   \n",
      "2757080   1466.480990   1196.630812   1359.197782  1449.438626   1386.550878   \n",
      "...               ...           ...           ...          ...           ...   \n",
      "2800048    404.277034    638.446352    511.125853   519.230452    481.205765   \n",
      "2800049   1092.558188    388.157492    568.969847   564.973910    788.083110   \n",
      "2800050     35.906111     58.873855     51.386305    46.561296     35.157535   \n",
      "2800051   4724.835212   4393.182067   3540.252402  4779.917613   3062.408849   \n",
      "2800052    807.354340    738.686065   1543.667980  1312.359615    628.541645   \n",
      "\n",
      "            GSM855874  \n",
      "2757075   1488.492064  \n",
      "2757076   8741.790244  \n",
      "2757077   5961.191489  \n",
      "2757078  16111.680689  \n",
      "2757080   1750.271118  \n",
      "...               ...  \n",
      "2800048    473.793259  \n",
      "2800049    995.879364  \n",
      "2800050     16.945024  \n",
      "2800051   3923.747336  \n",
      "2800052    549.709189  \n",
      "\n",
      "[16748 rows x 26 columns]\n",
      "(16748, 26)\n",
      "$bool\n",
      "[1] TRUE\n",
      "\n",
      "$reason\n",
      "NULL\n",
      "\n",
      "\n",
      "(22, 16748)\n"
     ]
    }
   ],
   "source": [
    "gwena = importr('GWENA')\n",
    "print(df)\n",
    "\n",
    "print(df.shape)\n",
    "print(robjects.r['is_data_expr'](df))\n",
    "df_filter = gwena.filter_low_var(df)\n",
    "print(pd.DataFrame(df_filter).shape)"
   ]
  },
  {
   "cell_type": "markdown",
   "metadata": {},
   "source": [
    "Initialize CEMiTool"
   ]
  },
  {
   "cell_type": "code",
   "execution_count": 8,
   "metadata": {},
   "outputs": [
    {
     "name": "stdout",
     "output_type": "stream",
     "text": [
      "Classes and parallel initialized\n"
     ]
    }
   ],
   "source": [
    "cemitool = importr('CEMiTool')\n",
    "doParallel = importr('doParallel')\n",
    "\n",
    "doParallel.registerDoParallel(cores = 8)\n",
    "print(\"Classes and parallel initialized\")"
   ]
  },
  {
   "cell_type": "markdown",
   "metadata": {},
   "source": [
    "Run CEMiTool and generate outputs"
   ]
  },
  {
   "cell_type": "code",
   "execution_count": 9,
   "metadata": {},
   "outputs": [
    {
     "name": "stderr",
     "output_type": "stream",
     "text": [
      "R[write to console]: Plotting diagnostic plots ...\n",
      "\n",
      "R[write to console]: ...Plotting mean and variance scatterplot ...\n",
      "\n",
      "R[write to console]: ...Plotting expression histogram ...\n",
      "\n",
      "R[write to console]: ...Plotting qq plot ...\n",
      "\n",
      "R[write to console]: ...Plotting sample tree ...\n",
      "\n",
      "R[write to console]: Finding modules ...\n",
      "\n",
      "R[write to console]: Selecting Beta\n",
      "\n"
     ]
    },
    {
     "name": "stdout",
     "output_type": "stream",
     "text": [
      "pickSoftThreshold: will use block size 1301.\n",
      " pickSoftThreshold: calculating connectivity for given powers...\n",
      "   ..working on genes 1 through 1301 of 1301\n",
      "   Power SFT.R.sq  slope truncated.R.sq mean.k. median.k. max.k.  Density\n",
      "1      1   0.2280  0.763          0.756 457.000   469.000  686.0 0.352000\n",
      "2      2   0.0879 -0.300          0.815 218.000   214.000  433.0 0.168000\n",
      "3      3   0.4330 -0.660          0.953 119.000   109.000  295.0 0.091700\n",
      "4      4   0.6390 -0.895          0.985  70.900    60.700  210.0 0.054500\n",
      "5      5   0.7530 -1.060          0.989  44.700    35.900  155.0 0.034400\n",
      "6      6   0.8380 -1.200          0.992  29.500    22.000  117.0 0.022700\n",
      "7      7   0.8770 -1.290          0.996  20.100    14.100   91.6 0.015500\n",
      "8      8   0.8850 -1.400          0.986  14.200     9.270   72.8 0.010900\n",
      "9      9   0.8820 -1.510          0.975  10.300     6.260   58.7 0.007900\n",
      "10    10   0.8870 -1.560          0.967   7.600     4.330   48.0 0.005850\n",
      "11    12   0.9180 -1.630          0.980   4.420     2.300   33.2 0.003400\n",
      "12    14   0.8600 -1.740          0.936   2.750     1.260   23.9 0.002120\n",
      "13    16   0.8770 -1.740          0.964   1.820     0.787   17.7 0.001400\n",
      "14    18   0.8820 -1.720          0.971   1.270     0.512   13.5 0.000974\n",
      "15    20   0.8300 -1.770          0.894   0.925     0.333   10.5 0.000712\n",
      "   Centralization Heterogeneity\n",
      "1         0.17600         0.255\n",
      "2         0.16600         0.419\n",
      "3         0.13500         0.546\n",
      "4         0.10700         0.654\n",
      "5         0.08480         0.749\n",
      "6         0.06770         0.836\n",
      "7         0.05510         0.917\n",
      "8         0.04510         0.992\n",
      "9         0.03730         1.060\n",
      "10        0.03120         1.130\n",
      "11        0.02220         1.250\n",
      "12        0.01630         1.350\n",
      "13        0.01230         1.440\n",
      "14        0.00942         1.530\n",
      "15        0.00738         1.620\n",
      "..connectivity..\n",
      "..matrix multiplication (system BLAS)..\n",
      "..normalization..\n",
      "..done.\n",
      " ..cutHeight not given, setting it to 0.993  ===>  99% of the (truncated) height range in dendro.\n",
      " ..done.\n"
     ]
    },
    {
     "name": "stderr",
     "output_type": "stream",
     "text": [
      "R[write to console]: Merging modules based on eigengene similarity\n",
      "\n"
     ]
    },
    {
     "name": "stdout",
     "output_type": "stream",
     "text": [
      " mergeCloseModules: Merging modules whose distance is less than 0.2\n",
      "   Calculating new MEs...\n"
     ]
    },
    {
     "name": "stderr",
     "output_type": "stream",
     "text": [
      "R[write to console]: Plotting beta x R squared curve ...\n",
      "\n",
      "R[write to console]: Plotting mean connectivity curve ...\n",
      "\n",
      "R[write to console]: Generating profile plots ...\n",
      "\n",
      "R[write to console]: Plotting beta x R squared curve ...\n",
      "\n",
      "R[write to console]: Plotting mean connectivity curve ...\n",
      "\n"
     ]
    }
   ],
   "source": [
    "df_filter = pd.DataFrame(df_filter).transpose()\n",
    "cem = cemitool.cemitool(df_filter, plot=True, verbose=True)\n",
    "\n",
    "# cemitool.generate_report(cem, force=True)\n",
    "# cemitool.write_files(cem, force=True)\n",
    "# cemitool.save_plots(cem, \"all\", force=True)"
   ]
  },
  {
   "cell_type": "code",
   "execution_count": 10,
   "metadata": {},
   "outputs": [
    {
     "name": "stderr",
     "output_type": "stream",
     "text": [
      "/var/folders/7h/sr6tmjsj3f3fzzdz59gnkbk80000gn/T/ipykernel_57528/171461875.py:8: ClusterWarning: scipy.cluster: The symmetric non-negative hollow observation matrix looks suspiciously like an uncondensed distance matrix\n",
      "  hierarchical_clustering = linkage(distance_matrix, method='complete')\n",
      "/var/folders/7h/sr6tmjsj3f3fzzdz59gnkbk80000gn/T/ipykernel_57528/171461875.py:33: MatplotlibDeprecationWarning: The get_cmap function was deprecated in Matplotlib 3.7 and will be removed two minor releases later. Use ``matplotlib.colormaps[name]`` or ``matplotlib.colormaps.get_cmap(obj)`` instead.\n",
      "  colors = plt.cm.get_cmap('tab10', len(unique_labels))\n"
     ]
    },
    {
     "data": {
      "image/png": "[encoded data removed]",
      "text/plain": [
       "<Figure size 640x480 with 2 Axes>"
      ]
     },
     "metadata": {},
     "output_type": "display_data"
    }
   ],
   "source": [
    "from scipy.cluster.hierarchy import linkage, dendrogram\n",
    "import matplotlib.pyplot as plt\n",
    "\n",
    "expression_data = cemitool.module_genes(cem)\n",
    "adjacency_matrix = cemitool.adj_data(cem)\n",
    "distance_matrix = 1 - adjacency_matrix\n",
    "\n",
    "hierarchical_clustering = linkage(distance_matrix, method='complete')\n",
    "\n",
    "fig, axes = plt.subplots(nrows=2)\n",
    "\n",
    "color_mapping = {\n",
    "    \"M1\": \"red\",\n",
    "    \"M2\": \"blue\",\n",
    "    \"M3\": \"green\"\n",
    "}\n",
    "\n",
    "# Plot the dendrogram\n",
    "dendro = dendrogram(hierarchical_clustering, labels=expression_data[0], no_labels=True, ax=axes[0])\n",
    "\n",
    "# Get the leaf node ids\n",
    "leaf_ids = dendro['leaves']\n",
    "\n",
    "modules = np.array(expression_data[1])[leaf_ids]\n",
    "\n",
    "# Create a list of unique labels in the order they first appear in the array\n",
    "unique_labels = []\n",
    "for label in modules:\n",
    "    if label not in unique_labels:\n",
    "        unique_labels.append(label)\n",
    "\n",
    "# Assign each unique label a color\n",
    "colors = plt.cm.get_cmap('tab10', len(unique_labels))\n",
    "label_to_color = {label: colors(i) for i, label in enumerate(unique_labels)}\n",
    "\n",
    "# Create an array of colors for each element in the original array\n",
    "color_array = [label_to_color[label] for label in modules]\n",
    "\n",
    "\n",
    "# # Create a color bar\n",
    "# fig, ax = plt.subplots(figsize=(8, 1), dpi=80)\n",
    "ax = axes[1]\n",
    "\n",
    "for i, color in enumerate(color_array):\n",
    "    ax.add_patch(plt.Rectangle((i, 0), 1, 1, color=color))\n",
    "\n",
    "ax.set_xlim(0, len(modules))\n",
    "ax.set_ylim(0, 1)\n",
    "ax.axis('off')\n",
    "\n",
    "plt.show()"
   ]
  }
 ],
 "metadata": {
  "kernelspec": {
   "display_name": "Python 3",
   "language": "python",
   "name": "python3"
  },
  "language_info": {
   "codemirror_mode": {
    "name": "ipython",
    "version": 3
   },
   "file_extension": ".py",
   "mimetype": "text/x-python",
   "name": "python",
   "nbconvert_exporter": "python",
   "pygments_lexer": "ipython3",
   "version": "3.11.6"
  }
 },
 "nbformat": 4,
 "nbformat_minor": 2
}
