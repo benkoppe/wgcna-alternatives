{
 "cells": [
  {
   "cell_type": "markdown",
   "metadata": {},
   "source": [
    "# **CEMiTool Workflow** Jupyter Implementation\n",
    "\n",
    "This notebook serves as an alternative to `workflow.py`. It performs the same function, but provided better explanations with Jupyter Notebook cells. This makes this file a little easier to follow the script and its flow, while the original script is best for quick runs.\n",
    "\n",
    "---\n"
   ]
  },
  {
   "cell_type": "markdown",
   "metadata": {},
   "source": [
    "## Step 1 - Initial Work\n",
    "\n",
    "**Initial Imports**: Import needed libraries, and set `dir` to file's location."
   ]
  },
  {
   "cell_type": "code",
   "execution_count": 7,
   "metadata": {},
   "outputs": [],
   "source": [
    "import os\n",
    "from pathlib import Path\n",
    "dir = Path(os.path.abspath('')) # sets dir variable\n",
    "\n",
    "# imports\n",
    "import pandas as pd\n",
    "import numpy as np\n",
    "from rpy2.robjects.packages import importr\n",
    "from rpy2.robjects import pandas2ri\n",
    "\n",
    "# activates conversion between pandas and R dataframes\n",
    "pandas2ri.activate()\n"
   ]
  },
  {
   "cell_type": "markdown",
   "metadata": {},
   "source": [
    "**Loading main gene/sample dataframe**: this file is loaded into the variable `df`\n",
    "\n",
    "*Note*: Rather than at the beginning of the script, each settings option in this version is written in a block directly on top of its associated block."
   ]
  },
  {
   "cell_type": "code",
   "execution_count": 8,
   "metadata": {},
   "outputs": [],
   "source": [
    "# SETTINGS\n",
    "\n",
    "# Path to gene expression file and its separator\n",
    "# file must:\n",
    "#   - have samples as columns and genes as rows\n",
    "#   - fill first row with sample IDs\n",
    "#   - fill first column with gene IDs\n",
    "expression_fpath = dir / \"data/expression.txt\"\n",
    "expression_separator = \"\\t\""
   ]
  },
  {
   "cell_type": "code",
   "execution_count": 9,
   "metadata": {},
   "outputs": [],
   "source": [
    "# -- Loading DataFrame (df) --\n",
    "df = pd.read_csv(expression_fpath, sep=expression_separator)\n",
    "df.columns = df.columns.str.strip()"
   ]
  },
  {
   "cell_type": "markdown",
   "metadata": {},
   "source": [
    "---\n",
    "## Step 2 - Preprocessing (Filtering)"
   ]
  },
  {
   "cell_type": "markdown",
   "metadata": {},
   "source": [
    "**Common Preprocessing Functions**: These functions are used by all preprocessing methods, and must be defined first."
   ]
  },
  {
   "cell_type": "code",
   "execution_count": 10,
   "metadata": {},
   "outputs": [],
   "source": [
    "# returns the number of columns and rows in a df\n",
    "def get_df_size(df):\n",
    "    return len(df.columns), len(df)\n",
    "\n",
    "\n",
    "# prints the change in columns and rows between two states of a df\n",
    "def print_df_changes(step_name, initial_size, final_size):\n",
    "    print(f\"{step_name}:\")\n",
    "    print(\n",
    "        f\"\\tColumns changed from {initial_size[0]} to {final_size[0]}, rows changed from {initial_size[1]} to {final_size[1]}\"\n",
    "    )"
   ]
  },
  {
   "cell_type": "markdown",
   "metadata": {},
   "source": [
    "**Sample Information Filter**: Reads a sample information file, and filters all samples that don't contain specified information."
   ]
  },
  {
   "cell_type": "code",
   "execution_count": 11,
   "metadata": {},
   "outputs": [],
   "source": [
    "# SETTINGS\n",
    "\n",
    "# Settings for filtering by sample information\n",
    "#\n",
    "# Samples must be listed in the same order as in the expression file,\n",
    "# and the file must contain a named row: a so-called 'match field'\n",
    "# that contains some string that must be matched. In this case,\n",
    "# that string is \"areaX\". All samples not containing the string in the\n",
    "# match field will be dropped.\n",
    "#\n",
    "# To disable, set sample information fpath to None\n",
    "sample_information_fpath = dir / \"data/sample info.txt\"\n",
    "sample_information_separator = \"\\t\"\n",
    "\n",
    "match_field_rowname = \"Sample_number\"\n",
    "match_value = \"areaX\""
   ]
  },
  {
   "cell_type": "code",
   "execution_count": 12,
   "metadata": {},
   "outputs": [
    {
     "name": "stdout",
     "output_type": "stream",
     "text": [
      "Sample information filtering:\n",
      "\tColumns changed from 54 to 27, rows changed from 20104 to 20104\n"
     ]
    }
   ],
   "source": [
    "if sample_information_fpath is not None:\n",
    "        # load file\n",
    "        labels = pd.read_csv(sample_information_fpath, sep=sample_information_separator)\n",
    "        labels.set_index(labels.columns[0], inplace=True)\n",
    "        labels = labels.transpose()\n",
    "\n",
    "        initial_size = get_df_size(df)  # stores the size of df before sample filtering\n",
    "\n",
    "        # loop for matches and drop columns\n",
    "        for col_name in df:\n",
    "            col_type = labels.loc[labels[match_field_rowname] == col_name].index[0]\n",
    "\n",
    "            if match_value not in col_type:\n",
    "                df = df.drop(col_name, axis=1)\n",
    "\n",
    "        print_df_changes(\n",
    "            \"Sample information filtering\", initial_size, get_df_size(df)\n",
    "        )  # prints change in df"
   ]
  },
  {
   "cell_type": "markdown",
   "metadata": {},
   "source": [
    "**NA \\& Sum Filtering**: Replaces NA and NaN values with 0, and removes samples with irregular sums dependings on order of magnitude."
   ]
  },
  {
   "cell_type": "code",
   "execution_count": 13,
   "metadata": {},
   "outputs": [],
   "source": [
    "# SETTINGS\n",
    "\n",
    "# Settings for filtering NA values and by sample sum thresholds.\n",
    "#\n",
    "# Replaces NA values with 0, and removes samples with a sum outside a certain\n",
    "# order of magnitude of the median of all other sample sums. The\n",
    "# order_of_magnitude_threshold setting sets the order needed for a sample to be removed.\n",
    "#\n",
    "# To disable, set order_of_magnitude_threshold to None\n",
    "order_of_magnitude_threshold = 2"
   ]
  },
  {
   "cell_type": "code",
   "execution_count": 14,
   "metadata": {},
   "outputs": [
    {
     "name": "stdout",
     "output_type": "stream",
     "text": [
      "NA/Sum filtering:\n",
      "\tColumns changed from 27 to 26, rows changed from 20104 to 20104\n"
     ]
    }
   ],
   "source": [
    "if order_of_magnitude_threshold is not None:\n",
    "        initial_size = get_df_size(df)  # stores the size of df before sample filtering\n",
    "\n",
    "        df.fillna(0)  # replace all NA and NaN values with 0\n",
    "\n",
    "        # compute sums and medians\n",
    "        sums = {col_name: np.sum(col_data) for col_name, col_data in df.items()}\n",
    "        median = np.median(list(sums.values()))\n",
    "\n",
    "        # loop for sums outside order of magnitude threshold\n",
    "        for col_name, _ in df.items():\n",
    "            sum = sums[col_name]\n",
    "            ratio = sum / median\n",
    "\n",
    "            if ratio > (10**order_of_magnitude_threshold) or ratio < (\n",
    "                10**-order_of_magnitude_threshold\n",
    "            ):\n",
    "                df = df.drop(col_name, axis=1)\n",
    "\n",
    "        print_df_changes(\n",
    "            \"NA/Sum filtering\", initial_size, get_df_size(df)\n",
    "        )  # prints change in df"
   ]
  },
  {
   "cell_type": "markdown",
   "metadata": {},
   "source": [
    "**Standard Deviation Filtering**: Removes genes with values outside a threshold of standard deviations from its sample distribution."
   ]
  },
  {
   "cell_type": "code",
   "execution_count": 15,
   "metadata": {},
   "outputs": [],
   "source": [
    "# SETTINGS\n",
    "\n",
    "# Settings for filtering by gene standard deviation thresholds\n",
    "#\n",
    "# All genes with values greater than two standard deviations outside the other data in the sample\n",
    "# causes the entire gene to be removed. This controls for abnormal and poor data\n",
    "#\n",
    "# To disable, set num_deviations_threshold to None\n",
    "num_deviations_threshold = 2"
   ]
  },
  {
   "cell_type": "code",
   "execution_count": 16,
   "metadata": {},
   "outputs": [
    {
     "name": "stdout",
     "output_type": "stream",
     "text": [
      "Standard deviation filtering:\n",
      "\tColumns changed from 26 to 26, rows changed from 20104 to 16748\n"
     ]
    }
   ],
   "source": [
    "if num_deviations_threshold is not None:\n",
    "        initial_size = get_df_size(df)  # stores the size of df before sample filtering\n",
    "\n",
    "        # compute means and standard deviations\n",
    "        means_and_devs = {\n",
    "            col_name: (np.mean(col_data), np.std(col_data))\n",
    "            for col_name, col_data in df.items()\n",
    "        }\n",
    "\n",
    "        # loop for values outside standard deviation threshold\n",
    "        for col_name, col_data in df.items():\n",
    "            mean, dev = means_and_devs[col_name]\n",
    "\n",
    "            upper_bound = mean + (dev * num_deviations_threshold)\n",
    "            lower_bound = mean - (dev * num_deviations_threshold)\n",
    "\n",
    "            for idx, item in col_data.items():\n",
    "                if (item < lower_bound) or (item > upper_bound):\n",
    "                    # mark cells that meet criteria\n",
    "                    df.at[idx, col_name] = np.nan\n",
    "\n",
    "        # remove marked rows\n",
    "        df = df.dropna()  # FIXME: Data hazard when NA filtering is disabled.\n",
    "\n",
    "        print_df_changes(\n",
    "            \"Standard deviation filtering\", initial_size, get_df_size(df)\n",
    "        )  # prints change in df"
   ]
  },
  {
   "cell_type": "markdown",
   "metadata": {},
   "source": [
    "*(Experimental)* **GWENA Filtering**: Uses built-in variance filtering from the module analysis package GWENA. Implementation currently has problems."
   ]
  },
  {
   "cell_type": "code",
   "execution_count": 17,
   "metadata": {},
   "outputs": [],
   "source": [
    "# SETTINGS\n",
    "\n",
    "# Settings for experimental GWENA filtering\n",
    "#\n",
    "# Uses built-in filtering in the GWENA package. Currently, this filter is likely not being used properly,\n",
    "# as nothing is every filtered out\n",
    "gwena_filter_enable = False"
   ]
  },
  {
   "cell_type": "code",
   "execution_count": 18,
   "metadata": {},
   "outputs": [],
   "source": [
    "if gwena_filter_enable:\n",
    "        initial_size = get_df_size(df)  # stores the size of df before sample filtering\n",
    "\n",
    "        limma = importr(\"limma\")\n",
    "        df_norm = limma.normalizeBetweenArrays(df, method=\"quantile\")\n",
    "        df[:] = df_norm\n",
    "\n",
    "        gwena = importr(\"GWENA\")  # imports GWENA package\n",
    "        df_filter = gwena.filter_low_var(df)  # calls GWENA filtering function\n",
    "        df = pd.DataFrame(df_filter).transpose()  # converts result back to pandas DataFrame\n",
    "\n",
    "        print_df_changes(\n",
    "            \"GWENA filtering\", initial_size, get_df_size(df)\n",
    "        )  # prints change in df"
   ]
  },
  {
   "cell_type": "markdown",
   "metadata": {},
   "source": [
    "---\n",
    "## Step 3 - Running in CEMiTool"
   ]
  },
  {
   "cell_type": "markdown",
   "metadata": {},
   "source": [
    "**Generate Modules**: A `cem` object is created as per the CEMiTool docs, which contains computed module information.\n",
    "\n",
    "*(Note)*: This is where any problems with CEMiTool would likely occur, as it does the bulk of the module generation work."
   ]
  },
  {
   "cell_type": "code",
   "execution_count": 19,
   "metadata": {},
   "outputs": [
    {
     "name": "stdout",
     "output_type": "stream",
     "text": [
      "Cemitool and parallel initialized\n"
     ]
    },
    {
     "name": "stderr",
     "output_type": "stream",
     "text": [
      "R[write to console]: Plotting diagnostic plots ...\n",
      "\n",
      "R[write to console]: ...Plotting mean and variance scatterplot ...\n",
      "\n",
      "R[write to console]: ...Plotting expression histogram ...\n",
      "\n",
      "R[write to console]: ...Plotting qq plot ...\n",
      "\n",
      "R[write to console]: ...Plotting sample tree ...\n",
      "\n",
      "R[write to console]: Finding modules ...\n",
      "\n",
      "R[write to console]: Selecting Beta\n",
      "\n"
     ]
    },
    {
     "name": "stdout",
     "output_type": "stream",
     "text": [
      "pickSoftThreshold: will use block size 1293.\n",
      " pickSoftThreshold: calculating connectivity for given powers...\n",
      "   ..working on genes 1 through 1293 of 1293\n",
      "   Power SFT.R.sq  slope truncated.R.sq mean.k. median.k. max.k.  Density\n",
      "1      1    0.059  0.347          0.798 430.000   439.000 659.00 0.333000\n",
      "2      2    0.240 -0.557          0.907 197.000   190.000 410.00 0.152000\n",
      "3      3    0.572 -0.935          0.967 104.000    92.100 277.00 0.080300\n",
      "4      4    0.709 -1.220          0.952  59.800    48.200 198.00 0.046300\n",
      "5      5    0.786 -1.370          0.970  36.800    27.200 147.00 0.028500\n",
      "6      6    0.853 -1.460          0.987  23.700    16.500 112.00 0.018300\n",
      "7      7    0.874 -1.560          0.979  15.900    10.200  86.70 0.012300\n",
      "8      8    0.856 -1.690          0.963  11.000     6.450  68.70 0.008530\n",
      "9      9    0.878 -1.700          0.970   7.870     4.280  55.20 0.006090\n",
      "10    10    0.900 -1.700          0.981   5.760     2.900  45.00 0.004460\n",
      "11    12    0.917 -1.750          0.987   3.300     1.500  31.00 0.002560\n",
      "12    14    0.902 -1.800          0.984   2.050     0.848  22.20 0.001590\n",
      "13    16    0.901 -1.800          0.981   1.360     0.526  16.50 0.001050\n",
      "14    18    0.903 -1.770          0.987   0.961     0.315  12.50 0.000744\n",
      "15    20    0.865 -1.750          0.917   0.715     0.205   9.72 0.000554\n",
      "   Centralization Heterogeneity\n",
      "1         0.17700         0.259\n",
      "2         0.16500         0.432\n",
      "3         0.13500         0.571\n",
      "4         0.10700         0.691\n",
      "5         0.08520         0.799\n",
      "6         0.06810         0.900\n",
      "7         0.05490         0.993\n",
      "8         0.04470         1.080\n",
      "9         0.03670         1.160\n",
      "10        0.03050         1.240\n",
      "11        0.02150         1.370\n",
      "12        0.01560         1.480\n",
      "13        0.01170         1.580\n",
      "14        0.00895         1.670\n",
      "15        0.00698         1.770\n",
      "..connectivity..\n",
      "..matrix multiplication (system BLAS)..\n",
      "..normalization..\n",
      "..done.\n",
      " ..cutHeight not given, setting it to 0.993  ===>  99% of the (truncated) height range in dendro.\n",
      " ..done.\n"
     ]
    },
    {
     "name": "stderr",
     "output_type": "stream",
     "text": [
      "R[write to console]: Merging modules based on eigengene similarity\n",
      "\n"
     ]
    },
    {
     "name": "stdout",
     "output_type": "stream",
     "text": [
      " mergeCloseModules: Merging modules whose distance is less than 0.2\n",
      "   Calculating new MEs...\n"
     ]
    },
    {
     "name": "stderr",
     "output_type": "stream",
     "text": [
      "R[write to console]: Plotting beta x R squared curve ...\n",
      "\n",
      "R[write to console]: Plotting mean connectivity curve ...\n",
      "\n",
      "R[write to console]: Generating profile plots ...\n",
      "\n",
      "R[write to console]: Plotting beta x R squared curve ...\n",
      "\n",
      "R[write to console]: Plotting mean connectivity curve ...\n",
      "\n"
     ]
    }
   ],
   "source": [
    "cemitool = importr(\"CEMiTool\")  # import CEMiTool\n",
    "doParallel = importr(\"doParallel\")  # import doParallel\n",
    "\n",
    "doParallel.registerDoParallel(cores=8)  # configure doParallel\n",
    "print(\"Cemitool and parallel initialized\")\n",
    "\n",
    "cem = cemitool.cemitool(df, plot=True, verbose=True)  # run CEMiTool"
   ]
  },
  {
   "cell_type": "markdown",
   "metadata": {},
   "source": [
    "**Save Reports \\& Plots**: The `cem` object is used to generate and save a number of reports and plots. This completes the script."
   ]
  },
  {
   "cell_type": "code",
   "execution_count": 20,
   "metadata": {},
   "outputs": [],
   "source": [
    "# SETTING\n",
    "\n",
    "# Save directory\n",
    "#\n",
    "# All plots and reports will be saved to this directory\n",
    "save_dir = dir / \"output\"   "
   ]
  },
  {
   "cell_type": "code",
   "execution_count": 21,
   "metadata": {},
   "outputs": [
    {
     "name": "stderr",
     "output_type": "stream",
     "text": [
      "R[write to console]: Some plots have not been defined. Please run the appropriate plot functions. Saving available plots.\n",
      "\n"
     ]
    },
    {
     "name": "stdout",
     "output_type": "stream",
     "text": [
      "$M1\n",
      "\n",
      "$M2\n",
      "\n",
      "$M3\n",
      "\n",
      "$M4\n",
      "\n",
      "$M5\n",
      "\n",
      "$M6\n",
      "\n",
      "$M7\n",
      "\n",
      "$Not.Correlated\n",
      "\n",
      "$beta_r2_plot\n",
      "\n",
      "$mean_k_plot\n",
      "\n"
     ]
    },
    {
     "data": {
      "text/html": [
       "\n",
       "        <span>ListVector with 7 elements.</span>\n",
       "        <table>\n",
       "        <tbody>\n",
       "        \n",
       "          <tr>\n",
       "            <th>\n",
       "            [no name]\n",
       "            </th>\n",
       "            <td>\n",
       "            <rpy2.rinterface.IntSexpVector object at 0x12757a2d0> [13]\n",
       "            </td>\n",
       "          </tr>\n",
       "        \n",
       "          <tr>\n",
       "            <th>\n",
       "            [no name]\n",
       "            </th>\n",
       "            <td>\n",
       "            <rpy2.rinterface.IntSexpVector object at 0x12757a410> [13]\n",
       "            </td>\n",
       "          </tr>\n",
       "        \n",
       "          <tr>\n",
       "            <th>\n",
       "            [no name]\n",
       "            </th>\n",
       "            <td>\n",
       "            <rpy2.rinterface.IntSexpVector object at 0x12757cb90> [13]\n",
       "            </td>\n",
       "          </tr>\n",
       "        \n",
       "          <tr>\n",
       "            <th>\n",
       "            [no name]\n",
       "            </th>\n",
       "            <td>\n",
       "            <rpy2.rinterface.IntSexpVector object at 0x121cd4910> [13]\n",
       "            </td>\n",
       "          </tr>\n",
       "        \n",
       "          <tr>\n",
       "            <th>\n",
       "            [no name]\n",
       "            </th>\n",
       "            <td>\n",
       "            <rpy2.rinterface.IntSexpVector object at 0x121cd5010> [13]\n",
       "            </td>\n",
       "          </tr>\n",
       "        \n",
       "          <tr>\n",
       "            <th>\n",
       "            [no name]\n",
       "            </th>\n",
       "            <td>\n",
       "            <rpy2.rinterface.IntSexpVector object at 0x1275dced0> [13]\n",
       "            </td>\n",
       "          </tr>\n",
       "        \n",
       "          <tr>\n",
       "            <th>\n",
       "            [no name]\n",
       "            </th>\n",
       "            <td>\n",
       "            <rpy2.rinterface.IntSexpVector object at 0x296a039d0> [13]\n",
       "            </td>\n",
       "          </tr>\n",
       "        \n",
       "        </tbody>\n",
       "        </table>\n",
       "        "
      ],
      "text/plain": [
       "<rpy2.robjects.vectors.ListVector object at 0x106630350> [19]\n",
       "R classes: ('list',)\n",
       "[IntS..., IntS..., IntS..., IntS..., IntS..., IntS..., IntS...]\n",
       "  <no name>: <class 'rpy2.rinterface.IntSexpVector'>\n",
       "  <rpy2.rinterface.IntSexpVector object at 0x1275dced0> [13]\n",
       "  <no name>: <class 'rpy2.rinterface.IntSexpVector'>\n",
       "  <rpy2.rinterface.IntSexpVector object at 0x1275ac150> [13]\n",
       "  <no name>: <class 'rpy2.rinterface.IntSexpVector'>\n",
       "  <rpy2.rinterface.IntSexpVector object at 0x1275a9c10> [13]\n",
       "  <no name>: <class 'rpy2.rinterface.IntSexpVector'>\n",
       "  <rpy2.rinterface.IntSexpVector object at 0x106777a90> [13]\n",
       "  <no name>: <class 'rpy2.rinterface.IntSexpVector'>\n",
       "  <rpy2.rinterface.IntSexpVector object at 0x1066316d0> [13]\n",
       "  <no name>: <class 'rpy2.rinterface.IntSexpVector'>\n",
       "  <rpy2.rinterface.IntSexpVector object at 0x1275ac150> [13]\n",
       "  <no name>: <class 'rpy2.rinterface.IntSexpVector'>\n",
       "  <rpy2.rinterface.IntSexpVector object at 0x1275a9c10> [13]"
      ]
     },
     "execution_count": 21,
     "metadata": {},
     "output_type": "execute_result"
    }
   ],
   "source": [
    "cemitool.generate_report(cem, force=True, directory=str(save_dir / \"report\"))\n",
    "cemitool.diagnostic_report(cem, force=True, directory=str(save_dir / \"diagnostic\"))\n",
    "cemitool.write_files(cem, force=True, directory=str(save_dir / \"files\"))\n",
    "cemitool.save_plots(cem, \"all\", force=True, directory=str(save_dir / \"plots\"))"
   ]
  }
 ],
 "metadata": {
  "kernelspec": {
   "display_name": "Python 3",
   "language": "python",
   "name": "python3"
  },
  "language_info": {
   "codemirror_mode": {
    "name": "ipython",
    "version": 3
   },
   "file_extension": ".py",
   "mimetype": "text/x-python",
   "name": "python",
   "nbconvert_exporter": "python",
   "pygments_lexer": "ipython3",
   "version": "3.11.6"
  }
 },
 "nbformat": 4,
 "nbformat_minor": 2
}
